{
  "nbformat": 4,
  "nbformat_minor": 0,
  "metadata": {
    "colab": {
      "provenance": [],
      "authorship_tag": "ABX9TyMDCjy/YVB/34H5oO17twnz",
      "include_colab_link": true
    },
    "kernelspec": {
      "name": "python3",
      "display_name": "Python 3"
    },
    "language_info": {
      "name": "python"
    }
  },
  "cells": [
    {
      "cell_type": "markdown",
      "metadata": {
        "id": "view-in-github",
        "colab_type": "text"
      },
      "source": [
        "<a href=\"https://colab.research.google.com/github/ashlee-arch/classofoss/blob/main/%EC%98%A4%EB%8A%98%EC%9D%98_%EC%88%98%EC%97%85_%EC%A7%91%EC%A4%91%EB%8F%84%EB%A5%BC_%ED%8C%8C%EC%95%85%ED%95%98%EB%8A%94_%ED%94%84%EB%A1%9C%EA%B7%B8%EB%9E%A8.ipynb\" target=\"_parent\"><img src=\"https://colab.research.google.com/assets/colab-badge.svg\" alt=\"Open In Colab\"/></a>"
      ]
    },
    {
      "cell_type": "code",
      "execution_count": null,
      "metadata": {
        "colab": {
          "base_uri": "https://localhost:8080/"
        },
        "id": "VjJPlZoutYqH",
        "outputId": "9b965055-3a51-4b31-a172-897cdf8b91f8"
      },
      "outputs": [
        {
          "output_type": "stream",
          "name": "stdout",
          "text": [
            "오늘 수업 집중도를 확인하는 프로그램입니다.\n",
            "Enter 키를 눌러 집중도를 확인하세요 (종료하려면 q 입력): \n",
            "4\n",
            "집중도가 양호합니다. 😊\n",
            "Enter 키를 눌러 집중도를 확인하세요 (종료하려면 q 입력): 6\n",
            "\n",
            "집중도가 매우 높습니다! 👍\n"
          ]
        }
      ],
      "source": [
        "import random\n",
        "import time\n",
        "\n",
        "def check_focus():\n",
        "  \"\"\"Checks the user's focus level using a simple random number generator.\"\"\"\n",
        "  focus_level = random.randint(1, 10)\n",
        "  return focus_level\n",
        "\n",
        "def main():\n",
        "  \"\"\"Main function to run the focus check program.\"\"\"\n",
        "\n",
        "  print(\"오늘 수업 집중도를 확인하는 프로그램입니다.\")\n",
        "\n",
        "  while True:\n",
        "    input(\"Enter 키를 눌러 집중도를 확인하세요 (종료하려면 q 입력): \")\n",
        "    user_input = input()\n",
        "\n",
        "    if user_input.lower() == 'q':\n",
        "      print(\"프로그램을 종료합니다.\")\n",
        "      break\n",
        "\n",
        "    focus = check_focus()\n",
        "\n",
        "    if focus >= 8:\n",
        "      print(\"집중도가 매우 높습니다! 👍\")\n",
        "    elif focus >= 5 :\n",
        "      print(\"집중도가 양호합니다. 😊\")\n",
        "    else:\n",
        "      print(\"집중도가 낮습니다. 😴 조금 더 집중해 봅시다!\")\n",
        "\n",
        "    time.sleep(1)\n",
        "\n",
        "\n",
        "if __name__ == \"__main__\":\n",
        "  main()\n"
      ]
    }
  ]
}