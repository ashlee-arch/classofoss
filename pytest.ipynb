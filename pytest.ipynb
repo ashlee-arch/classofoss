{
  "cells": [
    {
      "cell_type": "markdown",
      "metadata": {
        "id": "view-in-github",
        "colab_type": "text"
      },
      "source": [
        "<a href=\"https://colab.research.google.com/github/ashlee-arch/classofoss/blob/main/pytest.ipynb\" target=\"_parent\"><img src=\"https://colab.research.google.com/assets/colab-badge.svg\" alt=\"Open In Colab\"/></a>"
      ]
    },
    {
      "cell_type": "code",
      "source": [
        "!pip install pytest"
      ],
      "metadata": {
        "colab": {
          "base_uri": "https://localhost:8080/"
        },
        "id": "Idn5a91_Kaon",
        "outputId": "52ea4a80-eb9e-40fe-d404-75e4724a7c7f"
      },
      "execution_count": 1,
      "outputs": [
        {
          "output_type": "stream",
          "name": "stdout",
          "text": [
            "Requirement already satisfied: pytest in /usr/local/lib/python3.11/dist-packages (8.3.5)\n",
            "Requirement already satisfied: iniconfig in /usr/local/lib/python3.11/dist-packages (from pytest) (2.1.0)\n",
            "Requirement already satisfied: packaging in /usr/local/lib/python3.11/dist-packages (from pytest) (24.2)\n",
            "Requirement already satisfied: pluggy<2,>=1.5 in /usr/local/lib/python3.11/dist-packages (from pytest) (1.5.0)\n"
          ]
        }
      ]
    },
    {
      "cell_type": "code",
      "source": [
        "import pytest\n",
        "def test_file1_method1():\n",
        "  x=5\n",
        "  y=6\n",
        "  assert x+1 == y, \"test failed\"\n",
        "  assert x == y, \"test failed\"\n",
        "def test_file1_method2():\n",
        "  x=5\n",
        "  y=6\n",
        "  assert x+1 == y, \"test failed\""
      ],
      "metadata": {
        "id": "S66rbadgKwTl"
      },
      "execution_count": 7,
      "outputs": []
    },
    {
      "cell_type": "code",
      "source": [
        "!py.test"
      ],
      "metadata": {
        "colab": {
          "base_uri": "https://localhost:8080/"
        },
        "id": "UeNonci2Lm_R",
        "outputId": "0ded1323-85de-4521-f741-a99f501e251b"
      },
      "execution_count": 8,
      "outputs": [
        {
          "output_type": "stream",
          "name": "stdout",
          "text": [
            "\u001b[1m============================= test session starts ==============================\u001b[0m\n",
            "platform linux -- Python 3.11.12, pytest-8.3.5, pluggy-1.5.0\n",
            "rootdir: /content\n",
            "plugins: langsmith-0.3.42, anyio-4.9.0, typeguard-4.4.2\n",
            "\u001b[1mcollecting ... \u001b[0m\u001b[1m\rcollected 0 items                                                              \u001b[0m\n",
            "\n",
            "\u001b[33m============================ \u001b[33mno tests ran\u001b[0m\u001b[33m in 0.01s\u001b[0m\u001b[33m =============================\u001b[0m\n"
          ]
        }
      ]
    },
    {
      "cell_type": "code",
      "source": [
        "%%writefile test_fixture.py\n",
        "import pytest\n",
        "@pytest.fixture\n",
        "\n",
        "\n",
        "def supply_AA_BB_CC():\n",
        "  aa=25\n",
        "  bb=35\n",
        "  cc=45\n",
        "  return [aa,bb,cc]\n",
        "\n",
        "def test_comparewithAA(supply_AA_BB_CC):\n",
        "  zz=35\n",
        "  assert supply_AA_BB_CC[0]==zz, \"aa and zz comparidion failed\"\n",
        "\n",
        "def test_comparewithBB(supply_AA_BB_CC):\n",
        "  zz=35\n",
        "  assert supply_AA_BB_CC[1]==zz, \"bb and zz comparidion failed\"\n",
        "\n",
        "def test_comparewithCC(supply_AA_BB_CC):\n",
        "  zz=35\n",
        "  assert supply_AA_BB_CC[2]==zz, \"cc and zz comparidion failed\""
      ],
      "metadata": {
        "colab": {
          "base_uri": "https://localhost:8080/"
        },
        "id": "eMcT4EvuPIHT",
        "outputId": "7cafdba1-fe79-47bc-c353-b5b3774e6d6d"
      },
      "execution_count": 15,
      "outputs": [
        {
          "output_type": "stream",
          "name": "stdout",
          "text": [
            "Writing test_fixture.py\n"
          ]
        }
      ]
    },
    {
      "cell_type": "code",
      "source": [
        "!pytest test_fixture.py"
      ],
      "metadata": {
        "colab": {
          "base_uri": "https://localhost:8080/"
        },
        "id": "gc1BLdNGP1BK",
        "outputId": "a4a34848-3707-47fb-fefd-f774ce377b90"
      },
      "execution_count": 16,
      "outputs": [
        {
          "output_type": "stream",
          "name": "stdout",
          "text": [
            "\u001b[1m============================= test session starts ==============================\u001b[0m\n",
            "platform linux -- Python 3.11.12, pytest-8.3.5, pluggy-1.5.0\n",
            "rootdir: /content\n",
            "plugins: langsmith-0.3.42, anyio-4.9.0, typeguard-4.4.2\n",
            "\u001b[1mcollecting ... \u001b[0m\u001b[1m\rcollected 3 items                                                              \u001b[0m\n",
            "\n",
            "test_fixture.py \u001b[31mF\u001b[0m\u001b[32m.\u001b[0m\u001b[31mF\u001b[0m\u001b[31m                                                      [100%]\u001b[0m\n",
            "\n",
            "=================================== FAILURES ===================================\n",
            "\u001b[31m\u001b[1m______________________________ test_comparewithAA ______________________________\u001b[0m\n",
            "\n",
            "supply_AA_BB_CC = [25, 35, 45]\n",
            "\n",
            "    \u001b[0m\u001b[94mdef\u001b[39;49;00m\u001b[90m \u001b[39;49;00m\u001b[92mtest_comparewithAA\u001b[39;49;00m(supply_AA_BB_CC):\u001b[90m\u001b[39;49;00m\n",
            "      zz=\u001b[94m35\u001b[39;49;00m\u001b[90m\u001b[39;49;00m\n",
            ">     \u001b[94massert\u001b[39;49;00m supply_AA_BB_CC[\u001b[94m0\u001b[39;49;00m]==zz, \u001b[33m\"\u001b[39;49;00m\u001b[33maa and zz comparidion failed\u001b[39;49;00m\u001b[33m\"\u001b[39;49;00m\u001b[90m\u001b[39;49;00m\n",
            "\u001b[1m\u001b[31mE     AssertionError: aa and zz comparidion failed\u001b[0m\n",
            "\u001b[1m\u001b[31mE     assert 25 == 35\u001b[0m\n",
            "\n",
            "\u001b[1m\u001b[31mtest_fixture.py\u001b[0m:13: AssertionError\n",
            "\u001b[31m\u001b[1m______________________________ test_comparewithCC ______________________________\u001b[0m\n",
            "\n",
            "supply_AA_BB_CC = [25, 35, 45]\n",
            "\n",
            "    \u001b[0m\u001b[94mdef\u001b[39;49;00m\u001b[90m \u001b[39;49;00m\u001b[92mtest_comparewithCC\u001b[39;49;00m(supply_AA_BB_CC):\u001b[90m\u001b[39;49;00m\n",
            "      zz=\u001b[94m35\u001b[39;49;00m\u001b[90m\u001b[39;49;00m\n",
            ">     \u001b[94massert\u001b[39;49;00m supply_AA_BB_CC[\u001b[94m2\u001b[39;49;00m]==zz, \u001b[33m\"\u001b[39;49;00m\u001b[33mcc and zz comparidion failed\u001b[39;49;00m\u001b[33m\"\u001b[39;49;00m\u001b[90m\u001b[39;49;00m\n",
            "\u001b[1m\u001b[31mE     AssertionError: cc and zz comparidion failed\u001b[0m\n",
            "\u001b[1m\u001b[31mE     assert 45 == 35\u001b[0m\n",
            "\n",
            "\u001b[1m\u001b[31mtest_fixture.py\u001b[0m:21: AssertionError\n",
            "\u001b[36m\u001b[1m=========================== short test summary info ============================\u001b[0m\n",
            "\u001b[31mFAILED\u001b[0m test_fixture.py::\u001b[1mtest_comparewithAA\u001b[0m - AssertionError: aa and zz comparidion failed\n",
            "\u001b[31mFAILED\u001b[0m test_fixture.py::\u001b[1mtest_comparewithCC\u001b[0m - AssertionError: cc and zz comparidion failed\n",
            "\u001b[31m========================= \u001b[31m\u001b[1m2 failed\u001b[0m, \u001b[32m1 passed\u001b[0m\u001b[31m in 0.10s\u001b[0m\u001b[31m ==========================\u001b[0m\n"
          ]
        }
      ]
    }
  ],
  "metadata": {
    "colab": {
      "name": "Colab 시작하기",
      "provenance": [],
      "include_colab_link": true
    },
    "kernelspec": {
      "display_name": "Python 3",
      "name": "python3"
    }
  },
  "nbformat": 4,
  "nbformat_minor": 0
}