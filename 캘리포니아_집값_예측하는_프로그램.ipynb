{
  "nbformat": 4,
  "nbformat_minor": 0,
  "metadata": {
    "colab": {
      "provenance": [],
      "authorship_tag": "ABX9TyM7+Sz5M6HA24NveGpsdZIv",
      "include_colab_link": true
    },
    "kernelspec": {
      "name": "python3",
      "display_name": "Python 3"
    },
    "language_info": {
      "name": "python"
    }
  },
  "cells": [
    {
      "cell_type": "markdown",
      "metadata": {
        "id": "view-in-github",
        "colab_type": "text"
      },
      "source": [
        "<a href=\"https://colab.research.google.com/github/ashlee-arch/classofoss/blob/main/%EC%BA%98%EB%A6%AC%ED%8F%AC%EB%8B%88%EC%95%84_%EC%A7%91%EA%B0%92_%EC%98%88%EC%B8%A1%ED%95%98%EB%8A%94_%ED%94%84%EB%A1%9C%EA%B7%B8%EB%9E%A8.ipynb\" target=\"_parent\"><img src=\"https://colab.research.google.com/assets/colab-badge.svg\" alt=\"Open In Colab\"/></a>"
      ]
    },
    {
      "cell_type": "code",
      "source": [
        "# prompt: /content/sample_data/california_housing_test.csv 로 부터 캘리포니아 집값을 예측하는 프로그램을 만들어줘\n",
        "\n",
        "import pandas as pd\n",
        "from sklearn.model_selection import train_test_split\n",
        "from sklearn.linear_model import LinearRegression\n",
        "from sklearn.metrics import mean_squared_error\n",
        "\n",
        "# 데이터 로드\n",
        "try:\n",
        "    df = pd.read_csv('/content/sample_data/california_housing_test.csv')\n",
        "except FileNotFoundError:\n",
        "    print(\"Error: File not found. Please make sure the file path is correct.\")\n",
        "    exit()\n",
        "\n",
        "\n",
        "# 특성(X)과 타겟 변수(y) 분리\n",
        "X = df.drop('median_house_value', axis=1)\n",
        "y = df['median_house_value']\n",
        "\n",
        "\n",
        "# 데이터 전처리 (필요에 따라 추가)\n",
        "# 예시: 결측치 처리\n",
        "X.fillna(X.mean(), inplace=True)\n",
        "\n",
        "\n",
        "# 데이터 분할 (훈련 데이터와 테스트 데이터)\n",
        "X_train, X_test, y_train, y_test = train_test_split(X, y, test_size=0.2, random_state=42)\n",
        "\n",
        "# 모델 생성 및 훈련 (선형 회귀)\n",
        "model = LinearRegression()\n",
        "model.fit(X_train, y_train)\n",
        "\n",
        "# 예측\n",
        "y_pred = model.predict(X_test)\n",
        "\n",
        "# 평가 (평균 제곱 오차)\n",
        "mse = mean_squared_error(y_test, y_pred)\n",
        "print(f\"Mean Squared Error: {mse}\")\n",
        "\n",
        "# 새로운 데이터로 예측 (예시)\n",
        "# 새로운 데이터는 X_test와 같은 형태여야 함\n",
        "#new_data = pd.DataFrame({'longitude': [-118.24], 'latitude': [34.05], 'housing_median_age': [30.0], 'total_rooms': [2000.0], 'total_bedrooms': [400.0], 'population': [1000.0], 'households': [300.0], 'median_income': [6.0]})\n",
        "\n",
        "#new_prediction = model.predict(new_data)\n",
        "#print(f\"Prediction for new data: {new_prediction}\")\n"
      ],
      "metadata": {
        "colab": {
          "base_uri": "https://localhost:8080/"
        },
        "id": "sny8Qls54ZC3",
        "outputId": "bbcd8e23-b495-472e-d726-e3ef6e7d000f"
      },
      "execution_count": 3,
      "outputs": [
        {
          "output_type": "stream",
          "name": "stdout",
          "text": [
            "Mean Squared Error: 4586505886.68125\n"
          ]
        }
      ]
    }
  ]
}