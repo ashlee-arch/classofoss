{
  "nbformat": 4,
  "nbformat_minor": 0,
  "metadata": {
    "colab": {
      "provenance": [],
      "authorship_tag": "ABX9TyOfAtPOJvxmeeLSa39MZ0oq",
      "include_colab_link": true
    },
    "kernelspec": {
      "name": "python3",
      "display_name": "Python 3"
    },
    "language_info": {
      "name": "python"
    }
  },
  "cells": [
    {
      "cell_type": "markdown",
      "metadata": {
        "id": "view-in-github",
        "colab_type": "text"
      },
      "source": [
        "<a href=\"https://colab.research.google.com/github/ashlee-arch/classofoss/blob/main/%EC%82%BC%EA%B0%81%ED%98%95_%ED%8C%90%EB%8B%A8%ED%95%98%EA%B8%B0_%ED%94%84%EB%A1%9C%EA%B7%B8%EB%9E%A8.ipynb\" target=\"_parent\"><img src=\"https://colab.research.google.com/assets/colab-badge.svg\" alt=\"Open In Colab\"/></a>"
      ]
    },
    {
      "cell_type": "code",
      "execution_count": 6,
      "metadata": {
        "colab": {
          "base_uri": "https://localhost:8080/"
        },
        "id": "VjJPlZoutYqH",
        "outputId": "78e8be2c-1a0d-4047-c68f-06cb15867f6e"
      },
      "outputs": [
        {
          "output_type": "stream",
          "name": "stdout",
          "text": [
            "첫 번째 변의 길이를 입력하세요: 13\n",
            "두 번째 변의 길이를 입력하세요: 38\n",
            "세 번째 변의 길이를 입력하세요: 12\n",
            "삼각형이 아닙니다.\n"
          ]
        }
      ],
      "source": [
        "def is_triangle(a, b, c):\n",
        "  \"\"\"\n",
        "  세 변의 길이를 입력받아 삼각형인지 판단하는 함수입니다.\n",
        "\n",
        "  Args:\n",
        "    a: 첫 번째 변의 길이\n",
        "    b: 두 번째 변의 길이\n",
        "    c: 세 번째 변의 길이\n",
        "\n",
        "  Returns:\n",
        "    삼각형이면 True, 아니면 False를 반환합니다.\n",
        "  \"\"\"\n",
        "  if a + b > c and a + c > b and b + c > a:\n",
        "    return True\n",
        "  else:\n",
        "    return False\n",
        "\n",
        "# 사용자로부터 세 변의 길이를 입력받습니다.\n",
        "a = int(input(\"첫 번째 변의 길이를 입력하세요: \"))\n",
        "b = int(input(\"두 번째 변의 길이를 입력하세요: \"))\n",
        "c = int(input(\"세 번째 변의 길이를 입력하세요: \"))\n",
        "\n",
        "# 삼각형인지 판단하고 결과를 출력합니다.\n",
        "if is_triangle(a, b, c):\n",
        "  print(\"삼각형입니다.\")\n",
        "else:\n",
        "  print(\"삼각형이 아닙니다.\")\n",
        "\n"
      ]
    }
  ]
}